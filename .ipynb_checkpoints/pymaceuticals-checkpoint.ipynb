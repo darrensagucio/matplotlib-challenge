{
 "cells": [
  {
   "cell_type": "markdown",
   "metadata": {},
   "source": [
    "# Pymaceuticals Inc."
   ]
  },
  {
   "cell_type": "markdown",
   "metadata": {},
   "source": [
    "### Observations and Insights "
   ]
  },
  {
   "cell_type": "markdown",
   "metadata": {},
   "source": [
    "### Analysis\n",
    "* The drug regimen, Ramicane is shown to be a notable competitor for Capomulin. In the data shown below, Ramicane holds the lowest average of tumor volume and lowest median of final tumor volumes between the two treatments. Additionally, the mice final tumor volumes in Ramicane are lower than the ones found in Capomulin. \n",
    "* Every other drug regimen was not highly effective as Capomulin. The data indicates that the total measurements used for every other drug regimen was frequently lower than the use of Capomulin.\n",
    "* In the study conducted of mouse ID X401 using Capomulin, the data displays that there is a slight increase of tumor volume over a period of 5 days before its tumor volume significantly decreases. This is a repeated occurrence throughout the life span of mouse X401. "
   ]
  },
  {
   "cell_type": "code",
   "execution_count": 1,
   "metadata": {},
   "outputs": [],
   "source": [
    "# Dependencies and Setup\n",
    "import matplotlib.pyplot as plt\n",
    "import pandas as pd\n",
    "import scipy.stats as st\n",
    "from scipy.stats import sem\n",
    "import numpy as np\n",
    "from scipy.stats import linregress\n",
    "\n",
    "# Study data files\n",
    "mouse_metadata_path = \"data/Mouse_metadata.csv\"\n",
    "study_results_path = \"data/Study_results.csv\"\n",
    "\n",
    "# Read the mouse data and the study results\n",
    "mouse_metadata = pd.read_csv(mouse_metadata_path)\n",
    "study_results = pd.read_csv(study_results_path)"
   ]
  },
  {
   "cell_type": "code",
   "execution_count": 2,
   "metadata": {
    "scrolled": true
   },
   "outputs": [],
   "source": [
    "# Checking Indiviudal CSV's\n",
    "# mouse_metadata"
   ]
  },
  {
   "cell_type": "code",
   "execution_count": 3,
   "metadata": {
    "scrolled": true
   },
   "outputs": [],
   "source": [
    "# Checking Indiviudal CSV's\n",
    "# study_results"
   ]
  },
  {
   "cell_type": "code",
   "execution_count": 4,
   "metadata": {
    "scrolled": false
   },
   "outputs": [
    {
     "data": {
      "text/html": [
       "<div>\n",
       "<style scoped>\n",
       "    .dataframe tbody tr th:only-of-type {\n",
       "        vertical-align: middle;\n",
       "    }\n",
       "\n",
       "    .dataframe tbody tr th {\n",
       "        vertical-align: top;\n",
       "    }\n",
       "\n",
       "    .dataframe thead th {\n",
       "        text-align: right;\n",
       "    }\n",
       "</style>\n",
       "<table border=\"1\" class=\"dataframe\">\n",
       "  <thead>\n",
       "    <tr style=\"text-align: right;\">\n",
       "      <th></th>\n",
       "      <th>Mouse ID</th>\n",
       "      <th>Drug Regimen</th>\n",
       "      <th>Sex</th>\n",
       "      <th>Age_months</th>\n",
       "      <th>Weight (g)</th>\n",
       "      <th>Timepoint</th>\n",
       "      <th>Tumor Volume (mm3)</th>\n",
       "      <th>Metastatic Sites</th>\n",
       "    </tr>\n",
       "  </thead>\n",
       "  <tbody>\n",
       "    <tr>\n",
       "      <th>0</th>\n",
       "      <td>k403</td>\n",
       "      <td>Ramicane</td>\n",
       "      <td>Male</td>\n",
       "      <td>21</td>\n",
       "      <td>16</td>\n",
       "      <td>0</td>\n",
       "      <td>45.000000</td>\n",
       "      <td>0</td>\n",
       "    </tr>\n",
       "    <tr>\n",
       "      <th>1</th>\n",
       "      <td>k403</td>\n",
       "      <td>Ramicane</td>\n",
       "      <td>Male</td>\n",
       "      <td>21</td>\n",
       "      <td>16</td>\n",
       "      <td>5</td>\n",
       "      <td>38.825898</td>\n",
       "      <td>0</td>\n",
       "    </tr>\n",
       "    <tr>\n",
       "      <th>2</th>\n",
       "      <td>k403</td>\n",
       "      <td>Ramicane</td>\n",
       "      <td>Male</td>\n",
       "      <td>21</td>\n",
       "      <td>16</td>\n",
       "      <td>10</td>\n",
       "      <td>35.014271</td>\n",
       "      <td>1</td>\n",
       "    </tr>\n",
       "    <tr>\n",
       "      <th>3</th>\n",
       "      <td>k403</td>\n",
       "      <td>Ramicane</td>\n",
       "      <td>Male</td>\n",
       "      <td>21</td>\n",
       "      <td>16</td>\n",
       "      <td>15</td>\n",
       "      <td>34.223992</td>\n",
       "      <td>1</td>\n",
       "    </tr>\n",
       "    <tr>\n",
       "      <th>4</th>\n",
       "      <td>k403</td>\n",
       "      <td>Ramicane</td>\n",
       "      <td>Male</td>\n",
       "      <td>21</td>\n",
       "      <td>16</td>\n",
       "      <td>20</td>\n",
       "      <td>32.997729</td>\n",
       "      <td>1</td>\n",
       "    </tr>\n",
       "  </tbody>\n",
       "</table>\n",
       "</div>"
      ],
      "text/plain": [
       "  Mouse ID Drug Regimen   Sex  Age_months  Weight (g)  Timepoint  \\\n",
       "0     k403     Ramicane  Male          21          16          0   \n",
       "1     k403     Ramicane  Male          21          16          5   \n",
       "2     k403     Ramicane  Male          21          16         10   \n",
       "3     k403     Ramicane  Male          21          16         15   \n",
       "4     k403     Ramicane  Male          21          16         20   \n",
       "\n",
       "   Tumor Volume (mm3)  Metastatic Sites  \n",
       "0           45.000000                 0  \n",
       "1           38.825898                 0  \n",
       "2           35.014271                 1  \n",
       "3           34.223992                 1  \n",
       "4           32.997729                 1  "
      ]
     },
     "execution_count": 4,
     "metadata": {},
     "output_type": "execute_result"
    }
   ],
   "source": [
    "# Combine the data into a single dataset\n",
    "\n",
    "mouse_study_df = pd.merge(mouse_metadata, study_results, how = 'outer', on ='Mouse ID')\n",
    "\n",
    "# Display the data table for preview\n",
    "\n",
    "mouse_study_df.head()"
   ]
  },
  {
   "cell_type": "code",
   "execution_count": 5,
   "metadata": {},
   "outputs": [
    {
     "data": {
      "text/plain": [
       "1893"
      ]
     },
     "execution_count": 5,
     "metadata": {},
     "output_type": "execute_result"
    }
   ],
   "source": [
    "# Count Length Of Data Set \n",
    "# mouse_study_df.count()\n",
    "# mouse_study_df['Mouse ID'].count()"
   ]
  },
  {
   "cell_type": "code",
   "execution_count": 6,
   "metadata": {},
   "outputs": [
    {
     "data": {
      "text/plain": [
       "249"
      ]
     },
     "execution_count": 6,
     "metadata": {},
     "output_type": "execute_result"
    }
   ],
   "source": [
    "# Checking unique number of mice \n",
    "\n",
    "len(mouse_study_df['Mouse ID'].unique())"
   ]
  },
  {
   "cell_type": "code",
   "execution_count": 7,
   "metadata": {
    "scrolled": true
   },
   "outputs": [
    {
     "data": {
      "text/plain": [
       "array(['g989'], dtype=object)"
      ]
     },
     "execution_count": 7,
     "metadata": {},
     "output_type": "execute_result"
    }
   ],
   "source": [
    "# See Which Mouse Is Duplicated \n",
    "\n",
    "duplicate_mouse_ids = mouse_study_df.loc[mouse_study_df.duplicated(subset=['Mouse ID', 'Timepoint']),'Mouse ID'].unique()\n",
    "\n",
    "duplicate_mouse_ids"
   ]
  },
  {
   "cell_type": "code",
   "execution_count": 8,
   "metadata": {},
   "outputs": [
    {
     "data": {
      "text/html": [
       "<div>\n",
       "<style scoped>\n",
       "    .dataframe tbody tr th:only-of-type {\n",
       "        vertical-align: middle;\n",
       "    }\n",
       "\n",
       "    .dataframe tbody tr th {\n",
       "        vertical-align: top;\n",
       "    }\n",
       "\n",
       "    .dataframe thead th {\n",
       "        text-align: right;\n",
       "    }\n",
       "</style>\n",
       "<table border=\"1\" class=\"dataframe\">\n",
       "  <thead>\n",
       "    <tr style=\"text-align: right;\">\n",
       "      <th></th>\n",
       "      <th>Mouse ID</th>\n",
       "      <th>Drug Regimen</th>\n",
       "      <th>Sex</th>\n",
       "      <th>Age_months</th>\n",
       "      <th>Weight (g)</th>\n",
       "      <th>Timepoint</th>\n",
       "      <th>Tumor Volume (mm3)</th>\n",
       "      <th>Metastatic Sites</th>\n",
       "    </tr>\n",
       "  </thead>\n",
       "  <tbody>\n",
       "    <tr>\n",
       "      <th>908</th>\n",
       "      <td>g989</td>\n",
       "      <td>Propriva</td>\n",
       "      <td>Female</td>\n",
       "      <td>21</td>\n",
       "      <td>26</td>\n",
       "      <td>0</td>\n",
       "      <td>45.000000</td>\n",
       "      <td>0</td>\n",
       "    </tr>\n",
       "    <tr>\n",
       "      <th>909</th>\n",
       "      <td>g989</td>\n",
       "      <td>Propriva</td>\n",
       "      <td>Female</td>\n",
       "      <td>21</td>\n",
       "      <td>26</td>\n",
       "      <td>0</td>\n",
       "      <td>45.000000</td>\n",
       "      <td>0</td>\n",
       "    </tr>\n",
       "    <tr>\n",
       "      <th>910</th>\n",
       "      <td>g989</td>\n",
       "      <td>Propriva</td>\n",
       "      <td>Female</td>\n",
       "      <td>21</td>\n",
       "      <td>26</td>\n",
       "      <td>5</td>\n",
       "      <td>48.786801</td>\n",
       "      <td>0</td>\n",
       "    </tr>\n",
       "    <tr>\n",
       "      <th>911</th>\n",
       "      <td>g989</td>\n",
       "      <td>Propriva</td>\n",
       "      <td>Female</td>\n",
       "      <td>21</td>\n",
       "      <td>26</td>\n",
       "      <td>5</td>\n",
       "      <td>47.570392</td>\n",
       "      <td>0</td>\n",
       "    </tr>\n",
       "    <tr>\n",
       "      <th>912</th>\n",
       "      <td>g989</td>\n",
       "      <td>Propriva</td>\n",
       "      <td>Female</td>\n",
       "      <td>21</td>\n",
       "      <td>26</td>\n",
       "      <td>10</td>\n",
       "      <td>51.745156</td>\n",
       "      <td>0</td>\n",
       "    </tr>\n",
       "    <tr>\n",
       "      <th>913</th>\n",
       "      <td>g989</td>\n",
       "      <td>Propriva</td>\n",
       "      <td>Female</td>\n",
       "      <td>21</td>\n",
       "      <td>26</td>\n",
       "      <td>10</td>\n",
       "      <td>49.880528</td>\n",
       "      <td>0</td>\n",
       "    </tr>\n",
       "    <tr>\n",
       "      <th>914</th>\n",
       "      <td>g989</td>\n",
       "      <td>Propriva</td>\n",
       "      <td>Female</td>\n",
       "      <td>21</td>\n",
       "      <td>26</td>\n",
       "      <td>15</td>\n",
       "      <td>51.325852</td>\n",
       "      <td>1</td>\n",
       "    </tr>\n",
       "    <tr>\n",
       "      <th>915</th>\n",
       "      <td>g989</td>\n",
       "      <td>Propriva</td>\n",
       "      <td>Female</td>\n",
       "      <td>21</td>\n",
       "      <td>26</td>\n",
       "      <td>15</td>\n",
       "      <td>53.442020</td>\n",
       "      <td>0</td>\n",
       "    </tr>\n",
       "    <tr>\n",
       "      <th>916</th>\n",
       "      <td>g989</td>\n",
       "      <td>Propriva</td>\n",
       "      <td>Female</td>\n",
       "      <td>21</td>\n",
       "      <td>26</td>\n",
       "      <td>20</td>\n",
       "      <td>55.326122</td>\n",
       "      <td>1</td>\n",
       "    </tr>\n",
       "    <tr>\n",
       "      <th>917</th>\n",
       "      <td>g989</td>\n",
       "      <td>Propriva</td>\n",
       "      <td>Female</td>\n",
       "      <td>21</td>\n",
       "      <td>26</td>\n",
       "      <td>20</td>\n",
       "      <td>54.657650</td>\n",
       "      <td>1</td>\n",
       "    </tr>\n",
       "    <tr>\n",
       "      <th>918</th>\n",
       "      <td>g989</td>\n",
       "      <td>Propriva</td>\n",
       "      <td>Female</td>\n",
       "      <td>21</td>\n",
       "      <td>26</td>\n",
       "      <td>25</td>\n",
       "      <td>56.045564</td>\n",
       "      <td>1</td>\n",
       "    </tr>\n",
       "    <tr>\n",
       "      <th>919</th>\n",
       "      <td>g989</td>\n",
       "      <td>Propriva</td>\n",
       "      <td>Female</td>\n",
       "      <td>21</td>\n",
       "      <td>26</td>\n",
       "      <td>30</td>\n",
       "      <td>59.082294</td>\n",
       "      <td>1</td>\n",
       "    </tr>\n",
       "    <tr>\n",
       "      <th>920</th>\n",
       "      <td>g989</td>\n",
       "      <td>Propriva</td>\n",
       "      <td>Female</td>\n",
       "      <td>21</td>\n",
       "      <td>26</td>\n",
       "      <td>35</td>\n",
       "      <td>62.570880</td>\n",
       "      <td>2</td>\n",
       "    </tr>\n",
       "  </tbody>\n",
       "</table>\n",
       "</div>"
      ],
      "text/plain": [
       "    Mouse ID Drug Regimen     Sex  Age_months  Weight (g)  Timepoint  \\\n",
       "908     g989     Propriva  Female          21          26          0   \n",
       "909     g989     Propriva  Female          21          26          0   \n",
       "910     g989     Propriva  Female          21          26          5   \n",
       "911     g989     Propriva  Female          21          26          5   \n",
       "912     g989     Propriva  Female          21          26         10   \n",
       "913     g989     Propriva  Female          21          26         10   \n",
       "914     g989     Propriva  Female          21          26         15   \n",
       "915     g989     Propriva  Female          21          26         15   \n",
       "916     g989     Propriva  Female          21          26         20   \n",
       "917     g989     Propriva  Female          21          26         20   \n",
       "918     g989     Propriva  Female          21          26         25   \n",
       "919     g989     Propriva  Female          21          26         30   \n",
       "920     g989     Propriva  Female          21          26         35   \n",
       "\n",
       "     Tumor Volume (mm3)  Metastatic Sites  \n",
       "908           45.000000                 0  \n",
       "909           45.000000                 0  \n",
       "910           48.786801                 0  \n",
       "911           47.570392                 0  \n",
       "912           51.745156                 0  \n",
       "913           49.880528                 0  \n",
       "914           51.325852                 1  \n",
       "915           53.442020                 0  \n",
       "916           55.326122                 1  \n",
       "917           54.657650                 1  \n",
       "918           56.045564                 1  \n",
       "919           59.082294                 1  \n",
       "920           62.570880                 2  "
      ]
     },
     "execution_count": 8,
     "metadata": {},
     "output_type": "execute_result"
    }
   ],
   "source": [
    "# Show Mouse ID g989\n",
    "\n",
    "duplicate_mouse = mouse_study_df.loc[mouse_study_df[\"Mouse ID\"] == \"g989\"]\n",
    "\n",
    "duplicate_mouse"
   ]
  },
  {
   "cell_type": "code",
   "execution_count": 9,
   "metadata": {},
   "outputs": [
    {
     "data": {
      "text/html": [
       "<div>\n",
       "<style scoped>\n",
       "    .dataframe tbody tr th:only-of-type {\n",
       "        vertical-align: middle;\n",
       "    }\n",
       "\n",
       "    .dataframe tbody tr th {\n",
       "        vertical-align: top;\n",
       "    }\n",
       "\n",
       "    .dataframe thead th {\n",
       "        text-align: right;\n",
       "    }\n",
       "</style>\n",
       "<table border=\"1\" class=\"dataframe\">\n",
       "  <thead>\n",
       "    <tr style=\"text-align: right;\">\n",
       "      <th></th>\n",
       "      <th>Mouse ID</th>\n",
       "      <th>Drug Regimen</th>\n",
       "      <th>Sex</th>\n",
       "      <th>Age_months</th>\n",
       "      <th>Weight (g)</th>\n",
       "      <th>Timepoint</th>\n",
       "      <th>Tumor Volume (mm3)</th>\n",
       "      <th>Metastatic Sites</th>\n",
       "    </tr>\n",
       "  </thead>\n",
       "  <tbody>\n",
       "    <tr>\n",
       "      <th>0</th>\n",
       "      <td>k403</td>\n",
       "      <td>Ramicane</td>\n",
       "      <td>Male</td>\n",
       "      <td>21</td>\n",
       "      <td>16</td>\n",
       "      <td>0</td>\n",
       "      <td>45.000000</td>\n",
       "      <td>0</td>\n",
       "    </tr>\n",
       "    <tr>\n",
       "      <th>1</th>\n",
       "      <td>k403</td>\n",
       "      <td>Ramicane</td>\n",
       "      <td>Male</td>\n",
       "      <td>21</td>\n",
       "      <td>16</td>\n",
       "      <td>5</td>\n",
       "      <td>38.825898</td>\n",
       "      <td>0</td>\n",
       "    </tr>\n",
       "    <tr>\n",
       "      <th>2</th>\n",
       "      <td>k403</td>\n",
       "      <td>Ramicane</td>\n",
       "      <td>Male</td>\n",
       "      <td>21</td>\n",
       "      <td>16</td>\n",
       "      <td>10</td>\n",
       "      <td>35.014271</td>\n",
       "      <td>1</td>\n",
       "    </tr>\n",
       "    <tr>\n",
       "      <th>3</th>\n",
       "      <td>k403</td>\n",
       "      <td>Ramicane</td>\n",
       "      <td>Male</td>\n",
       "      <td>21</td>\n",
       "      <td>16</td>\n",
       "      <td>15</td>\n",
       "      <td>34.223992</td>\n",
       "      <td>1</td>\n",
       "    </tr>\n",
       "    <tr>\n",
       "      <th>4</th>\n",
       "      <td>k403</td>\n",
       "      <td>Ramicane</td>\n",
       "      <td>Male</td>\n",
       "      <td>21</td>\n",
       "      <td>16</td>\n",
       "      <td>20</td>\n",
       "      <td>32.997729</td>\n",
       "      <td>1</td>\n",
       "    </tr>\n",
       "  </tbody>\n",
       "</table>\n",
       "</div>"
      ],
      "text/plain": [
       "  Mouse ID Drug Regimen   Sex  Age_months  Weight (g)  Timepoint  \\\n",
       "0     k403     Ramicane  Male          21          16          0   \n",
       "1     k403     Ramicane  Male          21          16          5   \n",
       "2     k403     Ramicane  Male          21          16         10   \n",
       "3     k403     Ramicane  Male          21          16         15   \n",
       "4     k403     Ramicane  Male          21          16         20   \n",
       "\n",
       "   Tumor Volume (mm3)  Metastatic Sites  \n",
       "0           45.000000                 0  \n",
       "1           38.825898                 0  \n",
       "2           35.014271                 1  \n",
       "3           34.223992                 1  \n",
       "4           32.997729                 1  "
      ]
     },
     "execution_count": 9,
     "metadata": {},
     "output_type": "execute_result"
    }
   ],
   "source": [
    "# Remove Duplicate Mouse \n",
    "\n",
    "main_mouse_study_df = mouse_study_df[mouse_study_df['Mouse ID'].isin(duplicate_mouse_ids)==False]\n",
    "\n",
    "main_mouse_study_df.head()"
   ]
  },
  {
   "cell_type": "code",
   "execution_count": 10,
   "metadata": {},
   "outputs": [
    {
     "data": {
      "text/plain": [
       "248"
      ]
     },
     "execution_count": 10,
     "metadata": {},
     "output_type": "execute_result"
    }
   ],
   "source": [
    "# Length Of Data Frame Now\n",
    "\n",
    "len(main_mouse_study_df['Mouse ID'].unique())"
   ]
  },
  {
   "cell_type": "markdown",
   "metadata": {},
   "source": [
    "## Summary Statistics"
   ]
  },
  {
   "cell_type": "code",
   "execution_count": null,
   "metadata": {},
   "outputs": [],
   "source": [
    "# Generate a summary statistics table \n",
    "# of mean, median, variance, standard deviation, and SEM of the tumor volume for each regimen"
   ]
  },
  {
   "cell_type": "code",
   "execution_count": 11,
   "metadata": {},
   "outputs": [],
   "source": [
    "# Generating Data Frame With Drug Regimen And Tumor Volume \n",
    "\n",
    "generate_summary = main_mouse_study_df[['Drug Regimen','Tumor Volume (mm3)']]"
   ]
  },
  {
   "cell_type": "code",
   "execution_count": 12,
   "metadata": {},
   "outputs": [
    {
     "data": {
      "text/plain": [
       "10"
      ]
     },
     "execution_count": 12,
     "metadata": {},
     "output_type": "execute_result"
    }
   ],
   "source": [
    "# Checking How Many Unique There Are \n",
    "# len(generate_summary['Drug Regimen'].unique())"
   ]
  },
  {
   "cell_type": "code",
   "execution_count": 13,
   "metadata": {},
   "outputs": [],
   "source": [
    "# Group by Drugs \n",
    "\n",
    "groupby_regimen = generate_summary.groupby(['Drug Regimen'])\n",
    "\n",
    "# groupby_regimen.head()"
   ]
  },
  {
   "cell_type": "code",
   "execution_count": 14,
   "metadata": {},
   "outputs": [],
   "source": [
    "# Calculations\n",
    "\n",
    "mean_summary = groupby_regimen['Tumor Volume (mm3)'].mean()\n",
    "median_summary = groupby_regimen['Tumor Volume (mm3)'].median()\n",
    "variance_summary = groupby_regimen['Tumor Volume (mm3)'].var()\n",
    "std_summary = groupby_regimen['Tumor Volume (mm3)'].std()\n",
    "sem_summary = groupby_regimen['Tumor Volume (mm3)'].sem()"
   ]
  },
  {
   "cell_type": "code",
   "execution_count": 15,
   "metadata": {},
   "outputs": [
    {
     "data": {
      "text/html": [
       "<div>\n",
       "<style scoped>\n",
       "    .dataframe tbody tr th:only-of-type {\n",
       "        vertical-align: middle;\n",
       "    }\n",
       "\n",
       "    .dataframe tbody tr th {\n",
       "        vertical-align: top;\n",
       "    }\n",
       "\n",
       "    .dataframe thead th {\n",
       "        text-align: right;\n",
       "    }\n",
       "</style>\n",
       "<table border=\"1\" class=\"dataframe\">\n",
       "  <thead>\n",
       "    <tr style=\"text-align: right;\">\n",
       "      <th></th>\n",
       "      <th>Mean</th>\n",
       "      <th>Median</th>\n",
       "      <th>Variance</th>\n",
       "      <th>Standard Deviation</th>\n",
       "      <th>SEM</th>\n",
       "    </tr>\n",
       "    <tr>\n",
       "      <th>Drug Regimen</th>\n",
       "      <th></th>\n",
       "      <th></th>\n",
       "      <th></th>\n",
       "      <th></th>\n",
       "      <th></th>\n",
       "    </tr>\n",
       "  </thead>\n",
       "  <tbody>\n",
       "    <tr>\n",
       "      <th>Capomulin</th>\n",
       "      <td>40.675741</td>\n",
       "      <td>41.557809</td>\n",
       "      <td>24.947764</td>\n",
       "      <td>4.994774</td>\n",
       "      <td>0.329346</td>\n",
       "    </tr>\n",
       "    <tr>\n",
       "      <th>Ceftamin</th>\n",
       "      <td>52.591172</td>\n",
       "      <td>51.776157</td>\n",
       "      <td>39.290177</td>\n",
       "      <td>6.268188</td>\n",
       "      <td>0.469821</td>\n",
       "    </tr>\n",
       "    <tr>\n",
       "      <th>Infubinol</th>\n",
       "      <td>52.884795</td>\n",
       "      <td>51.820584</td>\n",
       "      <td>43.128684</td>\n",
       "      <td>6.567243</td>\n",
       "      <td>0.492236</td>\n",
       "    </tr>\n",
       "    <tr>\n",
       "      <th>Ketapril</th>\n",
       "      <td>55.235638</td>\n",
       "      <td>53.698743</td>\n",
       "      <td>68.553577</td>\n",
       "      <td>8.279709</td>\n",
       "      <td>0.603860</td>\n",
       "    </tr>\n",
       "    <tr>\n",
       "      <th>Naftisol</th>\n",
       "      <td>54.331565</td>\n",
       "      <td>52.509285</td>\n",
       "      <td>66.173479</td>\n",
       "      <td>8.134708</td>\n",
       "      <td>0.596466</td>\n",
       "    </tr>\n",
       "    <tr>\n",
       "      <th>Placebo</th>\n",
       "      <td>54.033581</td>\n",
       "      <td>52.288934</td>\n",
       "      <td>61.168083</td>\n",
       "      <td>7.821003</td>\n",
       "      <td>0.581331</td>\n",
       "    </tr>\n",
       "    <tr>\n",
       "      <th>Propriva</th>\n",
       "      <td>52.320930</td>\n",
       "      <td>50.446266</td>\n",
       "      <td>43.852013</td>\n",
       "      <td>6.622085</td>\n",
       "      <td>0.544332</td>\n",
       "    </tr>\n",
       "    <tr>\n",
       "      <th>Ramicane</th>\n",
       "      <td>40.216745</td>\n",
       "      <td>40.673236</td>\n",
       "      <td>23.486704</td>\n",
       "      <td>4.846308</td>\n",
       "      <td>0.320955</td>\n",
       "    </tr>\n",
       "    <tr>\n",
       "      <th>Stelasyn</th>\n",
       "      <td>54.233149</td>\n",
       "      <td>52.431737</td>\n",
       "      <td>59.450562</td>\n",
       "      <td>7.710419</td>\n",
       "      <td>0.573111</td>\n",
       "    </tr>\n",
       "    <tr>\n",
       "      <th>Zoniferol</th>\n",
       "      <td>53.236507</td>\n",
       "      <td>51.818479</td>\n",
       "      <td>48.533355</td>\n",
       "      <td>6.966589</td>\n",
       "      <td>0.516398</td>\n",
       "    </tr>\n",
       "  </tbody>\n",
       "</table>\n",
       "</div>"
      ],
      "text/plain": [
       "                   Mean     Median   Variance  Standard Deviation       SEM\n",
       "Drug Regimen                                                               \n",
       "Capomulin     40.675741  41.557809  24.947764            4.994774  0.329346\n",
       "Ceftamin      52.591172  51.776157  39.290177            6.268188  0.469821\n",
       "Infubinol     52.884795  51.820584  43.128684            6.567243  0.492236\n",
       "Ketapril      55.235638  53.698743  68.553577            8.279709  0.603860\n",
       "Naftisol      54.331565  52.509285  66.173479            8.134708  0.596466\n",
       "Placebo       54.033581  52.288934  61.168083            7.821003  0.581331\n",
       "Propriva      52.320930  50.446266  43.852013            6.622085  0.544332\n",
       "Ramicane      40.216745  40.673236  23.486704            4.846308  0.320955\n",
       "Stelasyn      54.233149  52.431737  59.450562            7.710419  0.573111\n",
       "Zoniferol     53.236507  51.818479  48.533355            6.966589  0.516398"
      ]
     },
     "execution_count": 15,
     "metadata": {},
     "output_type": "execute_result"
    }
   ],
   "source": [
    "# Adding Calculations To Data Frame \n",
    "\n",
    "summary_statistics_table = pd.DataFrame({\"Mean\":mean_summary,\n",
    "                                          \"Median\":median_summary,\n",
    "                                          \"Variance\":variance_summary,\n",
    "                                          \"Standard Deviation\":std_summary,\n",
    "                                          \"SEM\":sem_summary})\n",
    "summary_statistics_table"
   ]
  },
  {
   "cell_type": "code",
   "execution_count": 16,
   "metadata": {},
   "outputs": [
    {
     "data": {
      "text/html": [
       "<div>\n",
       "<style scoped>\n",
       "    .dataframe tbody tr th:only-of-type {\n",
       "        vertical-align: middle;\n",
       "    }\n",
       "\n",
       "    .dataframe tbody tr th {\n",
       "        vertical-align: top;\n",
       "    }\n",
       "\n",
       "    .dataframe thead tr th {\n",
       "        text-align: left;\n",
       "    }\n",
       "\n",
       "    .dataframe thead tr:last-of-type th {\n",
       "        text-align: right;\n",
       "    }\n",
       "</style>\n",
       "<table border=\"1\" class=\"dataframe\">\n",
       "  <thead>\n",
       "    <tr>\n",
       "      <th></th>\n",
       "      <th colspan=\"5\" halign=\"left\">Tumor Volume (mm3)</th>\n",
       "    </tr>\n",
       "    <tr>\n",
       "      <th></th>\n",
       "      <th>mean</th>\n",
       "      <th>median</th>\n",
       "      <th>var</th>\n",
       "      <th>std</th>\n",
       "      <th>sem</th>\n",
       "    </tr>\n",
       "    <tr>\n",
       "      <th>Drug Regimen</th>\n",
       "      <th></th>\n",
       "      <th></th>\n",
       "      <th></th>\n",
       "      <th></th>\n",
       "      <th></th>\n",
       "    </tr>\n",
       "  </thead>\n",
       "  <tbody>\n",
       "    <tr>\n",
       "      <th>Capomulin</th>\n",
       "      <td>40.675741</td>\n",
       "      <td>41.557809</td>\n",
       "      <td>24.947764</td>\n",
       "      <td>4.994774</td>\n",
       "      <td>0.329346</td>\n",
       "    </tr>\n",
       "    <tr>\n",
       "      <th>Ceftamin</th>\n",
       "      <td>52.591172</td>\n",
       "      <td>51.776157</td>\n",
       "      <td>39.290177</td>\n",
       "      <td>6.268188</td>\n",
       "      <td>0.469821</td>\n",
       "    </tr>\n",
       "    <tr>\n",
       "      <th>Infubinol</th>\n",
       "      <td>52.884795</td>\n",
       "      <td>51.820584</td>\n",
       "      <td>43.128684</td>\n",
       "      <td>6.567243</td>\n",
       "      <td>0.492236</td>\n",
       "    </tr>\n",
       "    <tr>\n",
       "      <th>Ketapril</th>\n",
       "      <td>55.235638</td>\n",
       "      <td>53.698743</td>\n",
       "      <td>68.553577</td>\n",
       "      <td>8.279709</td>\n",
       "      <td>0.603860</td>\n",
       "    </tr>\n",
       "    <tr>\n",
       "      <th>Naftisol</th>\n",
       "      <td>54.331565</td>\n",
       "      <td>52.509285</td>\n",
       "      <td>66.173479</td>\n",
       "      <td>8.134708</td>\n",
       "      <td>0.596466</td>\n",
       "    </tr>\n",
       "    <tr>\n",
       "      <th>Placebo</th>\n",
       "      <td>54.033581</td>\n",
       "      <td>52.288934</td>\n",
       "      <td>61.168083</td>\n",
       "      <td>7.821003</td>\n",
       "      <td>0.581331</td>\n",
       "    </tr>\n",
       "    <tr>\n",
       "      <th>Propriva</th>\n",
       "      <td>52.320930</td>\n",
       "      <td>50.446266</td>\n",
       "      <td>43.852013</td>\n",
       "      <td>6.622085</td>\n",
       "      <td>0.544332</td>\n",
       "    </tr>\n",
       "    <tr>\n",
       "      <th>Ramicane</th>\n",
       "      <td>40.216745</td>\n",
       "      <td>40.673236</td>\n",
       "      <td>23.486704</td>\n",
       "      <td>4.846308</td>\n",
       "      <td>0.320955</td>\n",
       "    </tr>\n",
       "    <tr>\n",
       "      <th>Stelasyn</th>\n",
       "      <td>54.233149</td>\n",
       "      <td>52.431737</td>\n",
       "      <td>59.450562</td>\n",
       "      <td>7.710419</td>\n",
       "      <td>0.573111</td>\n",
       "    </tr>\n",
       "    <tr>\n",
       "      <th>Zoniferol</th>\n",
       "      <td>53.236507</td>\n",
       "      <td>51.818479</td>\n",
       "      <td>48.533355</td>\n",
       "      <td>6.966589</td>\n",
       "      <td>0.516398</td>\n",
       "    </tr>\n",
       "  </tbody>\n",
       "</table>\n",
       "</div>"
      ],
      "text/plain": [
       "             Tumor Volume (mm3)                                          \n",
       "                           mean     median        var       std       sem\n",
       "Drug Regimen                                                             \n",
       "Capomulin             40.675741  41.557809  24.947764  4.994774  0.329346\n",
       "Ceftamin              52.591172  51.776157  39.290177  6.268188  0.469821\n",
       "Infubinol             52.884795  51.820584  43.128684  6.567243  0.492236\n",
       "Ketapril              55.235638  53.698743  68.553577  8.279709  0.603860\n",
       "Naftisol              54.331565  52.509285  66.173479  8.134708  0.596466\n",
       "Placebo               54.033581  52.288934  61.168083  7.821003  0.581331\n",
       "Propriva              52.320930  50.446266  43.852013  6.622085  0.544332\n",
       "Ramicane              40.216745  40.673236  23.486704  4.846308  0.320955\n",
       "Stelasyn              54.233149  52.431737  59.450562  7.710419  0.573111\n",
       "Zoniferol             53.236507  51.818479  48.533355  6.966589  0.516398"
      ]
     },
     "execution_count": 16,
     "metadata": {},
     "output_type": "execute_result"
    }
   ],
   "source": [
    "# Using the aggregation method, produce the same summary statistics in a single line\n",
    "\n",
    "aggregation_method = groupby_regimen.agg([np.mean,np.median,np.var,np.std,sem])\n",
    "aggregation_method "
   ]
  },
  {
   "cell_type": "markdown",
   "metadata": {},
   "source": [
    "## Bar and Pie Charts"
   ]
  },
  {
   "cell_type": "code",
   "execution_count": 17,
   "metadata": {},
   "outputs": [],
   "source": [
    "# Total Amount of tumor volume "
   ]
  },
  {
   "cell_type": "code",
   "execution_count": 18,
   "metadata": {},
   "outputs": [],
   "source": [
    "# Checking Total Measurements In Each Drug\n",
    "# groupby_regimen['Tumor Volume (mm3)'].count()"
   ]
  },
  {
   "cell_type": "code",
   "execution_count": 19,
   "metadata": {},
   "outputs": [],
   "source": [
    "drug_count_df = groupby_regimen['Tumor Volume (mm3)'].count()"
   ]
  },
  {
   "cell_type": "code",
   "execution_count": 20,
   "metadata": {},
   "outputs": [
    {
     "data": {
      "text/plain": [
       "<matplotlib.axes._subplots.AxesSubplot at 0x7fc8ac630668>"
      ]
     },
     "execution_count": 20,
     "metadata": {},
     "output_type": "execute_result"
    },
    {
     "data": {
      "image/png": "[encoded data removed]",
      "text/plain": [
       "<Figure size 432x288 with 1 Axes>"
      ]
     },
     "metadata": {
      "needs_background": "light"
     },
     "output_type": "display_data"
    }
   ],
   "source": [
    "# Generate a bar plot showing the total number of measurements taken on each drug regimen using pandas.\n",
    "drug_count_df.plot.bar()"
   ]
  },
  {
   "cell_type": "code",
   "execution_count": null,
   "metadata": {},
   "outputs": [],
   "source": [
    "# Generate a bar plot showing the total number of measurements taken on each drug regimen using pyplot."
   ]
  },
  {
   "cell_type": "code",
   "execution_count": 21,
   "metadata": {},
   "outputs": [],
   "source": [
    "# Total Counts For Each Drug In An Array\n",
    "#https://pythonexamples.org/convert-pandas-dataframe-to-numpy-array/#:~:text=To%20convert%20Pandas%20DataFrame%20to,returned%20ndarray%20is%202%2Ddimensional.\n",
    "\n",
    "drug_list = drug_count_df.to_numpy()\n",
    "\n",
    "# drug_list"
   ]
  },
  {
   "cell_type": "code",
   "execution_count": 22,
   "metadata": {},
   "outputs": [],
   "source": [
    "# Array Of Drug Names\n",
    "\n",
    "drug_names = [\"Capomulin\",\"Ceftamin\",\"Infubinol\",\"Ketapril\",\"Nattisol\",\"Placebo\",\"Propriva\",\"Ramicane\",\"Stelasyn\",\"Zoniferol\"]"
   ]
  },
  {
   "cell_type": "code",
   "execution_count": 23,
   "metadata": {},
   "outputs": [
    {
     "data": {
      "text/plain": [
       "array([0, 1, 2, 3, 4, 5, 6, 7, 8, 9])"
      ]
     },
     "execution_count": 23,
     "metadata": {},
     "output_type": "execute_result"
    }
   ],
   "source": [
    "# X-Axis' Length \n",
    "\n",
    "x_axis = np.arange(len(drug_list))\n",
    "\n",
    "# x_axis"
   ]
  },
  {
   "cell_type": "code",
   "execution_count": 25,
   "metadata": {
    "scrolled": true
   },
   "outputs": [
    {
     "data": {
      "image/png": "[encoded data removed]",
      "text/plain": [
       "<Figure size 432x288 with 1 Axes>"
      ]
     },
     "metadata": {
      "needs_background": "light"
     },
     "output_type": "display_data"
    }
   ],
   "source": [
    "# Ploting Bars \n",
    "\n",
    "plt.bar(x_axis, drug_list, width = 0.8, color = \"b\", alpha =0.5, align = \"center\")\n",
    "tick_locations = [value for value in x_axis]\n",
    "\n",
    "# Rotating Drug Names On Ticks \n",
    "#https://matplotlib.org/stable/gallery/ticks_and_spines/ticklabels_rotation.html\n",
    "\n",
    "plt.xticks(tick_locations, drug_names, rotation='vertical')\n",
    "\n",
    "# Adding Details \n",
    "\n",
    "plt.xlim(-0.75, len(x_axis)-0.25)\n",
    "plt.ylim(0, 250)\n",
    "plt.title(\"Total Number Of Measurements For Each Drug\")\n",
    "plt.xlabel(\"Drug Name\")\n",
    "plt.ylabel(\"Total Number Of Measurements\")\n",
    "plt.show()"
   ]
  },
  {
   "cell_type": "markdown",
   "metadata": {},
   "source": [
    "## Pie Plot"
   ]
  },
  {
   "cell_type": "code",
   "execution_count": 26,
   "metadata": {},
   "outputs": [],
   "source": [
    "# Generate a pie plot showing the distribution of female versus male mice using pandas"
   ]
  },
  {
   "cell_type": "code",
   "execution_count": 27,
   "metadata": {},
   "outputs": [],
   "source": [
    "# Creating Data Frame With Sex Column\n",
    "\n",
    "mouse_sex_df = main_mouse_study_df[['Sex']]\n",
    "\n",
    "# mouse_sex_df "
   ]
  },
  {
   "cell_type": "code",
   "execution_count": 28,
   "metadata": {},
   "outputs": [],
   "source": [
    "# Calculating Number Of Male And Females In Mouse Study \n",
    "\n",
    "mouse_sex_counts = mouse_sex_df['Sex'].value_counts()"
   ]
  },
  {
   "cell_type": "code",
   "execution_count": 29,
   "metadata": {},
   "outputs": [
    {
     "data": {
      "text/plain": [
       "<matplotlib.axes._subplots.AxesSubplot at 0x7fc8ad056dd8>"
      ]
     },
     "execution_count": 29,
     "metadata": {},
     "output_type": "execute_result"
    },
    {
     "data": {
      "image/png": "[encoded data removed]",
      "text/plain": [
       "<Figure size 432x288 with 1 Axes>"
      ]
     },
     "metadata": {},
     "output_type": "display_data"
    }
   ],
   "source": [
    "# Plot Pie \n",
    "\n",
    "mouse_sex_counts.plot.pie(autopct=\"%1.1f%%\")"
   ]
  },
  {
   "cell_type": "code",
   "execution_count": 30,
   "metadata": {},
   "outputs": [],
   "source": [
    "# Generate a pie plot showing the distribution of female versus male mice using pyplot"
   ]
  },
  {
   "cell_type": "code",
   "execution_count": 31,
   "metadata": {},
   "outputs": [
    {
     "data": {
      "image/png": "[encoded data removed]",
      "text/plain": [
       "<Figure size 432x288 with 1 Axes>"
      ]
     },
     "metadata": {},
     "output_type": "display_data"
    }
   ],
   "source": [
    "# Pie Section Names\n",
    "\n",
    "sex = [\"Male\",\"Female\"]\n",
    "\n",
    "# Total Counts For Each Sex In An Array\n",
    "#https://pythonexamples.org/convert-pandas-dataframe-to-numpy-array/#:~:text=To%20convert%20Pandas%20DataFrame%20to,returned%20ndarray%20is%202%2Ddimensional.\n",
    "sex_list = mouse_sex_counts.to_numpy()\n",
    "\n",
    "# Desired Colors \n",
    "colors = [\"yellow\",\"purple\"]\n",
    "\n",
    "# Plot Pie \n",
    "plt.pie(sex_list, labels=sex, autopct=\"%1.1f%%\", colors=colors,shadow=True, startangle=0)\n",
    "plt.ylabel(\"Sex\")\n",
    "plt.axis(\"equal\")\n",
    "plt.show()"
   ]
  },
  {
   "cell_type": "markdown",
   "metadata": {},
   "source": [
    "## Quartiles, Outliers and Boxplots"
   ]
  },
  {
   "cell_type": "code",
   "execution_count": 32,
   "metadata": {
    "scrolled": true
   },
   "outputs": [],
   "source": [
    "# Calculate the final tumor volume of each mouse across four of the treatment regimens:  \n",
    "# Capomulin, Ramicane, Infubinol, and Ceftamin\n",
    "\n",
    "finding_final_tumor_vol = main_mouse_study_df[['Mouse ID','Drug Regimen','Timepoint','Tumor Volume (mm3)']]\n",
    "\n",
    "# finding_final_tumor_vol"
   ]
  },
  {
   "cell_type": "markdown",
   "metadata": {},
   "source": [
    "## Capomulin"
   ]
  },
  {
   "cell_type": "code",
   "execution_count": 33,
   "metadata": {},
   "outputs": [],
   "source": [
    "# Locating Only Rows That Have Only Capomulin\n",
    "\n",
    "only_capomulin = finding_final_tumor_vol.loc[(finding_final_tumor_vol['Drug Regimen']== 'Capomulin')]"
   ]
  },
  {
   "cell_type": "code",
   "execution_count": 34,
   "metadata": {},
   "outputs": [],
   "source": [
    "# Join Selected Rows That Find Each Mouse's Final Timepoint \n",
    "# https://stackoverflow.com/questions/15705630/get-the-rows-which-have-the-max-value-in-groups-using-groupby\n",
    "\n",
    "max_capomulin_df = only_capomulin.groupby(['Mouse ID'])['Timepoint'].transform(max) == only_capomulin['Timepoint']\n",
    "only_max_capomulin = only_capomulin[max_capomulin_df]\n",
    "\n",
    "# only_max_capomulin"
   ]
  },
  {
   "cell_type": "code",
   "execution_count": 35,
   "metadata": {},
   "outputs": [],
   "source": [
    "# Getting Final Tumor Volume From Each Mouse\n",
    "\n",
    "max_capomulin_tumorvolume = only_max_capomulin[['Tumor Volume (mm3)']]\n",
    "\n",
    "# Converting Final Tumor Volume From Each Mouse Into A Series (For Plotting)\n",
    "\n",
    "max_capomulin_tumorvolume_series = max_capomulin_tumorvolume['Tumor Volume (mm3)']\n",
    "\n",
    "# max_capomulin_tumorvolume_series"
   ]
  },
  {
   "cell_type": "code",
   "execution_count": 36,
   "metadata": {},
   "outputs": [],
   "source": [
    "max_capomulin_tumorvolume_list = max_capomulin_tumorvolume_series.tolist()\n",
    "\n",
    "# max_capomulin_tumorvolume_list"
   ]
  },
  {
   "cell_type": "code",
   "execution_count": 37,
   "metadata": {},
   "outputs": [
    {
     "name": "stdout",
     "output_type": "stream",
     "text": [
      "Drug: Capomulin\n",
      "Lower Quartile: 32.37735684\n",
      "Upper Quartile: 40.1592203\n",
      "IQR: 7.781863460000004\n",
      "Median: 38.125164399999996\n",
      "Lower Boundary: 20.70456164999999\n",
      "Upper Boundary: 51.83201549\n",
      "There are no outliers above the upper bound!\n",
      "There are no outliers below the lower bound!\n"
     ]
    }
   ],
   "source": [
    "# Calculating Drug's Quartiles: Lower, Median, And Upper. Including IQR.\n",
    "\n",
    "capomulin_quartiles = max_capomulin_tumorvolume_series.quantile([.25,.5,.75])\n",
    "capomulin_lowerq = capomulin_quartiles[0.25]\n",
    "capomulin_upperq = capomulin_quartiles[0.75]\n",
    "capomulin_iqr = capomulin_upperq-capomulin_lowerq\n",
    "\n",
    "# Printing Results \n",
    "\n",
    "print(f\"Drug: Capomulin\")\n",
    "print(f\"Lower Quartile: {capomulin_lowerq}\")\n",
    "print(f\"Upper Quartile: {capomulin_upperq}\")\n",
    "print(f\"IQR: {capomulin_iqr}\")\n",
    "print(f\"Median: {capomulin_quartiles[0.5]}\")\n",
    "\n",
    "# Calculating Drugs Lower and Upper Bounds\n",
    "\n",
    "capomulin_lower_bound = capomulin_lowerq - (1.5*capomulin_iqr)\n",
    "capomulin_upper_bound = capomulin_upperq + (1.5*capomulin_iqr)\n",
    "print(f\"Lower Boundary: {capomulin_lower_bound}\")\n",
    "print(f\"Upper Boundary: {capomulin_upper_bound}\")\n",
    "\n",
    "# Creating List For Inputing Any Outliers \n",
    "\n",
    "capomulin_upper_outliers = []\n",
    "capomulin_lower_outliers = [] \n",
    "\n",
    "# Count Number Of Outliers (Used In For Loop)\n",
    "\n",
    "capomulin_count_upper_outliers = 0\n",
    "capomulin_count_lower_outliers = 0\n",
    "\n",
    "# Check If There Are Any Outliers In Drug's Upper Bound \n",
    "\n",
    "for i in range(0,len(max_capomulin_tumorvolume_list)):\n",
    "    if max_capomulin_tumorvolume_list[i] > capomulin_upper_bound:\n",
    "        capomulin_upper_outliers.append(max_capomulin_tumorvolume_list[i])\n",
    "        capomulin_count_upper_outliers = capomulin_count_upper_outliers + 1\n",
    "        \n",
    "# Check If There Are Any Outliers In Drug's Lower Bound \n",
    "\n",
    "for i in range(0,len(max_capomulin_tumorvolume_list)):\n",
    "    if max_capomulin_tumorvolume_list[i] < capomulin_lower_bound:\n",
    "        capomulin_lower_outliers.append(max_capomulin_tumorvolume_list[i])\n",
    "        capomulin_count_lower_outliers = capomulin_count_lower_outliers + 1\n",
    "\n",
    "# Prints Results Whether Or Not Drugs Have Outliers In Upper Bound\n",
    "\n",
    "if capomulin_count_upper_outliers == 1:\n",
    "    print(f\"Outlier is {capomulin_upper_outliers}. Located above the upper bound.\")\n",
    "elif capomulin_count_upper_outliers > 1:\n",
    "    print(f\"Outliers are {capomulin_upper_outliers}. Located above the upper bound.\")\n",
    "else: \n",
    "    print(\"There are no outliers above the upper bound!\")\n",
    "    \n",
    "# Prints Results Whether Or Not Drugs Have Outliers In Lower Bound \n",
    "\n",
    "if capomulin_count_lower_outliers == 1:\n",
    "    print(f\"Outlier is {capomulin_lower_outliers}. Located below the lower bound.\")\n",
    "elif capomulin_count_lower_outliers > 1:\n",
    "    print(f\"Outliers are {capomulin_lower_outliers}. Located below the lower bound.\")\n",
    "else: \n",
    "    print(\"There are no outliers below the lower bound!\")"
   ]
  },
  {
   "cell_type": "code",
   "execution_count": 38,
   "metadata": {},
   "outputs": [],
   "source": [
    "# Checking Box Plot For Capomulin\n",
    "# plt.boxplot(max_capomulin_tumorvolume_series)\n",
    "# plt.title(\"Final Tumor Volumes For Drug: Capomulin\")\n",
    "# plt.ylabel('Tumor Volumes')\n",
    "# plt.show()"
   ]
  },
  {
   "cell_type": "markdown",
   "metadata": {},
   "source": [
    "## Ramicane"
   ]
  },
  {
   "cell_type": "code",
   "execution_count": 39,
   "metadata": {},
   "outputs": [],
   "source": [
    "# Locating Only Rows That Have Only Ramicane\n",
    "\n",
    "only_ramicane = finding_final_tumor_vol.loc[(finding_final_tumor_vol['Drug Regimen']== 'Ramicane')]"
   ]
  },
  {
   "cell_type": "code",
   "execution_count": 40,
   "metadata": {},
   "outputs": [],
   "source": [
    "# Join Selected Rows That Find Each Mouse's Final Timepoint \n",
    "# https://stackoverflow.com/questions/15705630/get-the-rows-which-have-the-max-value-in-groups-using-groupby\n",
    "\n",
    "max_ramicane_df = only_ramicane.groupby(['Mouse ID'])['Timepoint'].transform(max) == only_ramicane['Timepoint']\n",
    "only_max_ramicane = only_ramicane[max_ramicane_df]\n",
    "\n",
    "# only_max_ramicane"
   ]
  },
  {
   "cell_type": "code",
   "execution_count": 41,
   "metadata": {},
   "outputs": [],
   "source": [
    "# Getting Final Tumor Volume From Each Mouse\n",
    "\n",
    "max_ramicane_tumorvolume = only_max_ramicane[['Tumor Volume (mm3)']]\n",
    "\n",
    "# Converting Final Tumor Volume From Each Mouse Into A Series (For Plotting)\n",
    "\n",
    "max_ramicane_tumorvolume_series = max_ramicane_tumorvolume['Tumor Volume (mm3)']\n",
    "\n",
    "# max_ramicane_tumorvolume_series"
   ]
  },
  {
   "cell_type": "code",
   "execution_count": 42,
   "metadata": {},
   "outputs": [],
   "source": [
    "max_ramicane_tumorvolume_list = max_ramicane_tumorvolume_series.tolist()\n",
    "\n",
    "# max_ramicane_tumorvolume_list"
   ]
  },
  {
   "cell_type": "code",
   "execution_count": 43,
   "metadata": {},
   "outputs": [
    {
     "name": "stdout",
     "output_type": "stream",
     "text": [
      "Drug: Ramicane\n",
      "Lower Quartile: 31.56046955\n",
      "Upper Quartile: 40.65900627\n",
      "IQR: 9.098536719999998\n",
      "Median: 36.56165229\n",
      "Lower Boundary: 17.912664470000003\n",
      "Upper Boundary: 54.30681135\n",
      "There are no outliers above the upper bound!\n",
      "There are no outliers below the lower bound!\n"
     ]
    }
   ],
   "source": [
    "# Calculating Drug's Quartiles: Lower, Median, And Upper. Including IQR.\n",
    "\n",
    "ramicane_quartiles = max_ramicane_tumorvolume_series.quantile([.25,.5,.75])\n",
    "ramicane_lowerq = ramicane_quartiles[0.25]\n",
    "ramicane_upperq = ramicane_quartiles[0.75]\n",
    "ramicane_iqr = ramicane_upperq-ramicane_lowerq\n",
    "\n",
    "# Printing Results\n",
    "\n",
    "print(f\"Drug: Ramicane\")\n",
    "print(f\"Lower Quartile: {ramicane_lowerq}\")\n",
    "print(f\"Upper Quartile: {ramicane_upperq}\")\n",
    "print(f\"IQR: {ramicane_iqr}\")\n",
    "print(f\"Median: {ramicane_quartiles[0.5]}\")\n",
    "\n",
    "# Calculating Drugs Lower and Upper Bounds \n",
    "\n",
    "ramicane_lower_bound = ramicane_lowerq - (1.5*ramicane_iqr)\n",
    "ramicane_upper_bound = ramicane_upperq + (1.5*ramicane_iqr)\n",
    "print(f\"Lower Boundary: {ramicane_lower_bound}\")\n",
    "print(f\"Upper Boundary: {ramicane_upper_bound}\")\n",
    "\n",
    "# Creating List For Inputing Any Outliers \n",
    "\n",
    "ramicane_upper_outliers = []\n",
    "ramicane_lower_outliers = [] \n",
    "\n",
    "# Count Number Of Outliers (Used In For Loop)\n",
    "\n",
    "ramicane_count_upper_outliers = 0\n",
    "ramicane_count_lower_outliers = 0\n",
    "\n",
    "# Check If There Are Any Outliers In Drug's Upper Bound \n",
    "\n",
    "for i in range(0,len(max_ramicane_tumorvolume_list)):\n",
    "    if max_ramicane_tumorvolume_list[i] > ramicane_upper_bound:\n",
    "        ramicane_upper_outliers.append(max_ramicane_tumorvolume_list[i])\n",
    "        ramicane_count_upper_outliers = ramicane_count_upper_outliers + 1\n",
    "\n",
    "# Check If There Are Any Outliers In Drug's Lower Bound \n",
    "\n",
    "for i in range(0,len(max_ramicane_tumorvolume_list)):\n",
    "    if max_ramicane_tumorvolume_list[i] < ramicane_lower_bound:\n",
    "        ramicane_lower_outliers.append(max_ramicane_tumorvolume_list[i])\n",
    "        ramicane_count_lower_outliers = ramicane_count_lower_outliers + 1\n",
    "\n",
    "# Prints Results Whether Or Not Drugs Have Outliers In Upper Bound \n",
    "\n",
    "if ramicane_count_upper_outliers == 1:\n",
    "    print(f\"Outlier is {ramicane_upper_outliers}. Located above the upper bound.\")\n",
    "elif ramicane_count_upper_outliers > 1:\n",
    "    print(f\"Outliers are {ramicane_upper_outliers}. Located above the upper bound.\")\n",
    "else: \n",
    "    print(\"There are no outliers above the upper bound!\")\n",
    "\n",
    "# Prints Results Whether Or Not Drugs Have Outliers In Lower Bound \n",
    "\n",
    "if ramicane_count_lower_outliers == 1:\n",
    "    print(f\"Outlier is {ramicane_lower_outliers}. Located below the lower bound.\")\n",
    "elif ramicane_count_lower_outliers > 1:\n",
    "    print(f\"Outliers are {ramicane_lower_outliers}. Located below the lower bound.\")\n",
    "else: \n",
    "    print(\"There are no outliers below the lower bound!\")"
   ]
  },
  {
   "cell_type": "code",
   "execution_count": 44,
   "metadata": {},
   "outputs": [],
   "source": [
    "# Checking Box Plot For Ramicane\n",
    "# plt.boxplot(max_ramicane_tumorvolume_series)\n",
    "# plt.title(\"Final Tumor Volumes For Drug: Ramicane\")\n",
    "# plt.ylabel('Tumor Volumes')\n",
    "# plt.show()"
   ]
  },
  {
   "cell_type": "markdown",
   "metadata": {},
   "source": [
    "## Infubinol"
   ]
  },
  {
   "cell_type": "code",
   "execution_count": 45,
   "metadata": {},
   "outputs": [],
   "source": [
    "# Locating Only Rows That Have Only Infubinol\n",
    "\n",
    "only_infubinol = finding_final_tumor_vol.loc[(finding_final_tumor_vol['Drug Regimen']== 'Infubinol')]"
   ]
  },
  {
   "cell_type": "code",
   "execution_count": 46,
   "metadata": {},
   "outputs": [],
   "source": [
    "# Join Selected Rows That Find Each Mouse's Final Timepoint \n",
    "# https://stackoverflow.com/questions/15705630/get-the-rows-which-have-the-max-value-in-groups-using-groupby\n",
    "\n",
    "max_infubinol_df = only_infubinol.groupby(['Mouse ID'])['Timepoint'].transform(max) == only_infubinol['Timepoint']\n",
    "only_max_infubinol = only_infubinol[max_infubinol_df]\n",
    "\n",
    "# only_max_infubinol"
   ]
  },
  {
   "cell_type": "code",
   "execution_count": 47,
   "metadata": {},
   "outputs": [],
   "source": [
    "# Getting Final Tumor Volume From Each Mouse\n",
    "\n",
    "max_infubinol_tumorvolume = only_max_infubinol[['Tumor Volume (mm3)']]\n",
    "\n",
    "# Converting Final Tumor Volume From Each Mouse Into A Series (For Plotting)\n",
    "\n",
    "max_infubinol_tumorvolume_series = max_infubinol_tumorvolume['Tumor Volume (mm3)']\n",
    "\n",
    "# max_infubinol_tumorvolume_series"
   ]
  },
  {
   "cell_type": "code",
   "execution_count": 48,
   "metadata": {},
   "outputs": [],
   "source": [
    "max_infubinol_tumorvolume_list = max_infubinol_tumorvolume_series.tolist()\n",
    "\n",
    "# max_infubinol_tumorvolume_list"
   ]
  },
  {
   "cell_type": "code",
   "execution_count": 49,
   "metadata": {},
   "outputs": [
    {
     "name": "stdout",
     "output_type": "stream",
     "text": [
      "Drug: Infubinol\n",
      "Lower Quartile: 54.04860769\n",
      "Upper Quartile: 65.52574285\n",
      "IQR: 11.477135160000003\n",
      "Median: 60.16518046 \n",
      "Lower Boundary: 36.83290494999999\n",
      "Upper Boundary: 82.74144559000001\n",
      "There are no outliers above the upper bound!\n",
      "Outlier is [36.321345799999996]. Located below the lower bound.\n"
     ]
    }
   ],
   "source": [
    "# Calculating Drug's Quartiles: Lower, Median, And Upper. Including IQR.\n",
    "\n",
    "infubinol_quartiles = max_infubinol_tumorvolume_series.quantile([.25,.5,.75])\n",
    "infubinol_lowerq = infubinol_quartiles[0.25]\n",
    "infubinol_upperq = infubinol_quartiles[0.75]\n",
    "infubinol_iqr = infubinol_upperq-infubinol_lowerq\n",
    "\n",
    "# Printing Results \n",
    "\n",
    "print(f\"Drug: Infubinol\")\n",
    "print(f\"Lower Quartile: {infubinol_lowerq}\")\n",
    "print(f\"Upper Quartile: {infubinol_upperq}\")\n",
    "print(f\"IQR: {infubinol_iqr}\")\n",
    "print(f\"Median: {infubinol_quartiles[0.5]} \")\n",
    "\n",
    "# Calculating Drugs Lower and Upper Bounds \n",
    "\n",
    "infubinol_lower_bound = infubinol_lowerq - (1.5*infubinol_iqr)\n",
    "infubinol_upper_bound = infubinol_upperq + (1.5*infubinol_iqr)\n",
    "print(f\"Lower Boundary: {infubinol_lower_bound}\")\n",
    "print(f\"Upper Boundary: {infubinol_upper_bound}\")\n",
    "\n",
    "# Creating List For Inputing Any Outliers \n",
    "\n",
    "infubinol_upper_outliers = []\n",
    "infubinol_lower_outliers = [] \n",
    "\n",
    "# Count Number Of Outliers (Used In For Loop)\n",
    "\n",
    "infubinol_count_upper_outliers = 0\n",
    "infubinol_count_lower_outliers = 0\n",
    "\n",
    "# Check If There Are Any Outliers In Drug's Upper Bound \n",
    "\n",
    "for i in range(0,len(max_infubinol_tumorvolume_list)):\n",
    "    if max_infubinol_tumorvolume_list[i] > infubinol_upper_bound:\n",
    "        infubinol_upper_outliers.append(max_infubinol_tumorvolume_list[i])\n",
    "        infubinol_count_upper_outliers = infubinol_count_upper_outliers + 1\n",
    "        \n",
    "# Check If There Are Any Outliers In Drug's Lower Bound \n",
    "\n",
    "for i in range(0,len(max_infubinol_tumorvolume_list)):\n",
    "    if max_infubinol_tumorvolume_list[i] < infubinol_lower_bound:\n",
    "        infubinol_lower_outliers.append(max_infubinol_tumorvolume_list[i])\n",
    "        infubinol_count_lower_outliers = infubinol_count_lower_outliers + 1\n",
    "        \n",
    "# Prints Results Whether Or Not Drugs Have Outliers In Upper Bound \n",
    "\n",
    "if infubinol_count_upper_outliers == 1:\n",
    "    print(f\"Outlier is {infubinol_upper_outliers}. Located above the upper bound.\")\n",
    "elif infubinol_count_upper_outliers > 1:\n",
    "    print(f\"Outliers are {infubinol_upper_outliers}. Located above the upper bound.\")\n",
    "else: \n",
    "    print(\"There are no outliers above the upper bound!\")\n",
    "    \n",
    "# Prints Results Whether Or Not Drugs Have Outliers In Lower Bound \n",
    "\n",
    "if infubinol_count_lower_outliers == 1:\n",
    "    print(f\"Outlier is {infubinol_lower_outliers}. Located below the lower bound.\")\n",
    "elif infubinol_count_lower_outliers > 1:\n",
    "    print(f\"Outliers are {infubinol_lower_outliers}. Located below the lower bound.\")\n",
    "else: \n",
    "    print(\"There are no outliers below the lower bound!\")"
   ]
  },
  {
   "cell_type": "code",
   "execution_count": 50,
   "metadata": {},
   "outputs": [],
   "source": [
    "# Checking Box Plot For Infubinol \n",
    "# plt.boxplot(max_infubinol_tumorvolume_series)\n",
    "# plt.title(\"Final Tumor Volumes For Drug: Infubinol\")\n",
    "# plt.ylabel('Tumor Volumes')\n",
    "# plt.show()"
   ]
  },
  {
   "cell_type": "markdown",
   "metadata": {},
   "source": [
    "## Ceftamin "
   ]
  },
  {
   "cell_type": "code",
   "execution_count": 51,
   "metadata": {},
   "outputs": [],
   "source": [
    "# Locating Only Rows That Have Only Ceftamin\n",
    "\n",
    "only_ceftamin = finding_final_tumor_vol.loc[(finding_final_tumor_vol['Drug Regimen']== 'Ceftamin')]"
   ]
  },
  {
   "cell_type": "code",
   "execution_count": 52,
   "metadata": {},
   "outputs": [],
   "source": [
    "# Join Selected Rows That Find Each Mouse's Final Timepoint \n",
    "# https://stackoverflow.com/questions/15705630/get-the-rows-which-have-the-max-value-in-groups-using-groupby\n",
    "\n",
    "max_ceftamin_df = only_ceftamin.groupby(['Mouse ID'])['Timepoint'].transform(max) == only_ceftamin['Timepoint']\n",
    "only_max_ceftamin = only_ceftamin[max_ceftamin_df]\n",
    "\n",
    "# only_max_ceftamin"
   ]
  },
  {
   "cell_type": "code",
   "execution_count": 53,
   "metadata": {},
   "outputs": [],
   "source": [
    "# Getting Final Tumor Volume From Each Mouse\n",
    "\n",
    "max_ceftamin_tumorvolume = only_max_ceftamin[['Tumor Volume (mm3)']]\n",
    "\n",
    "# Converting Final Tumor Volume From Each Mouse Into A Series (For Plotting)\n",
    "\n",
    "max_ceftamin_tumorvolume_series = max_ceftamin_tumorvolume['Tumor Volume (mm3)']\n",
    "\n",
    "# max_ceftamin_tumorvolume_series"
   ]
  },
  {
   "cell_type": "code",
   "execution_count": 54,
   "metadata": {},
   "outputs": [],
   "source": [
    "max_ceftamin_tumorvolume_list = max_ceftamin_tumorvolume_series.tolist()\n",
    "\n",
    "# max_ceftamin_tumorvolume_list"
   ]
  },
  {
   "cell_type": "code",
   "execution_count": 55,
   "metadata": {},
   "outputs": [
    {
     "name": "stdout",
     "output_type": "stream",
     "text": [
      "Drug: Ceftamin\n",
      "Lower Quartile: 48.72207785\n",
      "Upper Quartile: 64.29983003\n",
      "IQR: 15.577752179999997\n",
      "Median: 59.85195552\n",
      "Lower Boundary: 25.355449580000002\n",
      "Upper Boundary: 87.66645829999999\n",
      "There are no outliers above the upper bound!\n",
      "There are no outliers below the lower bound!\n"
     ]
    }
   ],
   "source": [
    "# Calculating Drug's Quartiles: Lower, Median, And Upper. Including IQR.\n",
    "\n",
    "ceftamin_quartiles = max_ceftamin_tumorvolume_series.quantile([.25,.5,.75])\n",
    "ceftamin_lowerq = ceftamin_quartiles[0.25]\n",
    "ceftamin_upperq = ceftamin_quartiles[0.75]\n",
    "ceftamin_iqr = ceftamin_upperq-ceftamin_lowerq\n",
    "\n",
    "# Printing Results \n",
    "\n",
    "print(f\"Drug: Ceftamin\")\n",
    "print(f\"Lower Quartile: {ceftamin_lowerq}\")\n",
    "print(f\"Upper Quartile: {ceftamin_upperq}\")\n",
    "print(f\"IQR: {ceftamin_iqr}\")\n",
    "print(f\"Median: {ceftamin_quartiles[0.5]}\")\n",
    "\n",
    "# Calculating Drugs Lower and Upper Bounds \n",
    "\n",
    "ceftamin_lower_bound = ceftamin_lowerq - (1.5*ceftamin_iqr)\n",
    "ceftamin_upper_bound = ceftamin_upperq + (1.5*ceftamin_iqr)\n",
    "print(f\"Lower Boundary: {ceftamin_lower_bound}\")\n",
    "print(f\"Upper Boundary: {ceftamin_upper_bound}\")\n",
    "\n",
    "# Creating List For Inputing Any Outliers \n",
    "\n",
    "ceftamin_upper_outliers = []\n",
    "ceftamin_lower_outliers = [] \n",
    "\n",
    "# Count Number Of Outliers (Used In For Loop)\n",
    "\n",
    "ceftamin_count_upper_outliers = 0\n",
    "ceftamin_count_lower_outliers = 0\n",
    "\n",
    "# Check If There Are Any Outliers In Drug's Upper Bound\n",
    "\n",
    "for i in range(0,len(max_ceftamin_tumorvolume_list)):\n",
    "    if max_ceftamin_tumorvolume_list[i] > ceftamin_upper_bound:\n",
    "        ceftamin_upper_outliers.append(max_ceftamin_tumorvolume_list[i])\n",
    "        ceftamin_count_upper_outliers = ceftamin_count_upper_outliers + 1\n",
    "\n",
    "# Check If There Are Any Outliers In Drug's Lower Bound \n",
    "\n",
    "for i in range(0,len(max_ceftamin_tumorvolume_list)):\n",
    "    if max_ceftamin_tumorvolume_list[i] < ceftamin_lower_bound:\n",
    "        ceftamin_lower_outliers.append(max_ceftamin_tumorvolume_list[i])\n",
    "        ceftamin_count_lower_outliers = ceftamin_count_lower_outliers + 1\n",
    "\n",
    "# Prints Results Whether Or Not Drugs Have Outliers In Upper Bound \n",
    "\n",
    "if ceftamin_count_upper_outliers == 1:\n",
    "    print(f\"Outlier is {ceftamin_upper_outliers}. Located above the upper bound.\")\n",
    "elif ceftamin_count_upper_outliers > 1:\n",
    "    print(f\"Outliers are {ceftamin_upper_outliers}. Located above the upper bound.\")\n",
    "else: \n",
    "    print(\"There are no outliers above the upper bound!\")\n",
    "\n",
    "# Prints Results Whether Or Not Drugs Have Outliers In Lower Bound\n",
    "\n",
    "if ceftamin_count_lower_outliers == 1:\n",
    "    print(f\"Outlier is {ceftamin_lower_outliers}. Located below the lower bound.\")\n",
    "elif ceftamin_count_lower_outliers > 1:\n",
    "    print(f\"Outliers are {ceftamin_lower_outliers}. Located below the lower bound.\")\n",
    "else: \n",
    "    print(\"There are no outliers below the lower bound!\")"
   ]
  },
  {
   "cell_type": "code",
   "execution_count": 56,
   "metadata": {},
   "outputs": [],
   "source": [
    "# Checking Box Plot For Ceftamin \n",
    "# plt.boxplot(max_ceftamin_tumorvolume_series)\n",
    "# plt.title(\"Final Tumor Volumes For Drug: Ceftamin\")\n",
    "# plt.ylabel('Tumor Volumes')\n",
    "# plt.show()"
   ]
  },
  {
   "cell_type": "markdown",
   "metadata": {},
   "source": [
    "## Box Plots"
   ]
  },
  {
   "cell_type": "code",
   "execution_count": 57,
   "metadata": {},
   "outputs": [
    {
     "data": {
      "image/png": "[encoded data removed]",
      "text/plain": [
       "<Figure size 432x288 with 1 Axes>"
      ]
     },
     "metadata": {
      "needs_background": "light"
     },
     "output_type": "display_data"
    }
   ],
   "source": [
    "# Generate a box plot of the final tumor volume of each mouse across four regimens of interest\n",
    "\n",
    "four_regimens_boxplot = [max_capomulin_tumorvolume_series, max_ramicane_tumorvolume_series,\n",
    "                         max_infubinol_tumorvolume_series, max_ceftamin_tumorvolume_series]\n",
    "fig1, ax1 = plt.subplots()\n",
    "ax1.set_title('Final Tumor Volume Across Four Regimens')\n",
    "ax1.set_xlabel('Drug Regimens')\n",
    "ax1.set_ylabel('Final Tumor Volume')\n",
    "\n",
    "# Color And Change Symbol For Outlier \n",
    "# https://matplotlib.org/3.1.1/gallery/statistics/boxplot.html\n",
    "\n",
    "color_n_size = dict(markerfacecolor='yellow',markersize=10)\n",
    "ax1.boxplot(four_regimens_boxplot, sym='*',flierprops=color_n_size)\n",
    "\n",
    "# Drug Name For Each X-Tick\n",
    "# https://stats.stackexchange.com/questions/3476/how-to-name-the-ticks-in-a-python-matplotlib-boxplot\n",
    "\n",
    "plt.xticks([1, 2, 3, 4], ['Capomulin', 'Ramicane', 'Infubinol','Ceftamin'])\n",
    "plt.show()"
   ]
  },
  {
   "cell_type": "markdown",
   "metadata": {},
   "source": [
    "## Line Plot"
   ]
  },
  {
   "cell_type": "code",
   "execution_count": 58,
   "metadata": {},
   "outputs": [],
   "source": [
    "# Finding ID To Pick From . . .\n",
    "# only_capomulin['Mouse ID'].unique()"
   ]
  },
  {
   "cell_type": "code",
   "execution_count": 59,
   "metadata": {},
   "outputs": [],
   "source": [
    "# Generate A Line Plot Of Tumor Volume Vs. Time Point For A Mouse Treated With Capomulin"
   ]
  },
  {
   "cell_type": "code",
   "execution_count": 60,
   "metadata": {},
   "outputs": [],
   "source": [
    "# Locate The Mouse That I Want To Extract Data From \n",
    "\n",
    "one_mouse_treated_capomulin = only_capomulin.loc[(only_capomulin['Mouse ID']== 'x401')]\n",
    "\n",
    "# one_mouse_treated_capomulin"
   ]
  },
  {
   "cell_type": "code",
   "execution_count": 61,
   "metadata": {},
   "outputs": [],
   "source": [
    "# Convert Timepoint Into List (x-axis)\n",
    "\n",
    "one_mouse_timepoint_list = one_mouse_treated_capomulin['Timepoint'].to_numpy()\n",
    "\n",
    "# one_mouse_timepoint_list"
   ]
  },
  {
   "cell_type": "code",
   "execution_count": 62,
   "metadata": {},
   "outputs": [],
   "source": [
    "# Convert Tumor Volume Into List (y-axis)\n",
    "\n",
    "one_mouse_tumorvolume_list = one_mouse_treated_capomulin['Tumor Volume (mm3)'].to_numpy()\n",
    "\n",
    "# one_mouse_tumorvolume_list"
   ]
  },
  {
   "cell_type": "code",
   "execution_count": 63,
   "metadata": {},
   "outputs": [
    {
     "data": {
      "image/png": "[encoded data removed]",
      "text/plain": [
       "<Figure size 432x288 with 1 Axes>"
      ]
     },
     "metadata": {
      "needs_background": "light"
     },
     "output_type": "display_data"
    }
   ],
   "source": [
    "# Plot Line Graph Of Mouse ID (X401) \n",
    "\n",
    "plt.plot(one_mouse_timepoint_list,one_mouse_tumorvolume_list)\n",
    "plt.title('Time Point Vs. Tumor Volume For Mouse X401 Treated With Capomulin')\n",
    "plt.xlabel('Amount Of Days')\n",
    "plt.ylabel('Tumor Volume')\n",
    "plt.show()"
   ]
  },
  {
   "cell_type": "markdown",
   "metadata": {},
   "source": [
    "## Scatter Plot "
   ]
  },
  {
   "cell_type": "code",
   "execution_count": 64,
   "metadata": {},
   "outputs": [],
   "source": [
    "# Generate A Scatter Plot Of Average Tumor Volume Vs. Mouse Weight For The Capomulin Regimen"
   ]
  },
  {
   "cell_type": "code",
   "execution_count": 65,
   "metadata": {},
   "outputs": [],
   "source": [
    "# Creating DataFrame That Has The Weight Column \n",
    "\n",
    "add_weight_df = main_mouse_study_df[['Mouse ID','Tumor Volume (mm3)', 'Weight (g)','Drug Regimen']]\n",
    "\n",
    "# add_weight_df "
   ]
  },
  {
   "cell_type": "code",
   "execution_count": 66,
   "metadata": {},
   "outputs": [],
   "source": [
    "# DataFrame With Only Capomulin In It . . .\n",
    "\n",
    "only_capmulin_with_weight = add_weight_df.loc[(add_weight_df ['Drug Regimen'] == 'Capomulin')]\n",
    "\n",
    "# only_capmulin_with_weight"
   ]
  },
  {
   "cell_type": "code",
   "execution_count": 67,
   "metadata": {},
   "outputs": [],
   "source": [
    "# DataFrame With Only Capomulin In It, Group By Mouse ID \n",
    "\n",
    "groupby_mouse_id = only_capmulin_with_weight.groupby('Mouse ID')\n",
    "\n",
    "# groupby_mouse_id.head()"
   ]
  },
  {
   "cell_type": "code",
   "execution_count": 68,
   "metadata": {},
   "outputs": [],
   "source": [
    "# Calculatiing Mean For Every Mouse\n",
    "\n",
    "average_tumor_volumes = groupby_mouse_id[\"Tumor Volume (mm3)\"].mean()\n",
    "\n",
    "# Making Sure Each Mouse Weight Is Consistent \n",
    "\n",
    "find_individual_weight = groupby_mouse_id[\"Weight (g)\"].mean()"
   ]
  },
  {
   "cell_type": "code",
   "execution_count": 69,
   "metadata": {},
   "outputs": [],
   "source": [
    "# Creating Data Frame With Those Calculations \n",
    "\n",
    "average_tumor_volume_n_weight_table = pd.DataFrame({\"Average Tumor Volumes\":average_tumor_volumes,\n",
    "                                                    \"Individual Weight\":find_individual_weight })\n",
    "\n",
    "# average_tumor_volume_n_weight_table"
   ]
  },
  {
   "cell_type": "code",
   "execution_count": 70,
   "metadata": {},
   "outputs": [],
   "source": [
    "# Creating Column Average Tumor Volume Into List (For Plotting)\n",
    "\n",
    "average_tumor_volume_list = average_tumor_volume_n_weight_table['Average Tumor Volumes'].to_numpy()\n",
    "\n",
    "# average_tumor_volume_list"
   ]
  },
  {
   "cell_type": "code",
   "execution_count": 71,
   "metadata": {},
   "outputs": [],
   "source": [
    "# Creating Column Individual Weight Into List (For Plotting)\n",
    "\n",
    "individual_weight_list = average_tumor_volume_n_weight_table['Individual Weight'].to_numpy()\n",
    "\n",
    "# individual_weight_list"
   ]
  },
  {
   "cell_type": "code",
   "execution_count": 72,
   "metadata": {},
   "outputs": [],
   "source": [
    "# Calculating X-Limit For Graph\n",
    "\n",
    "max_weight = average_tumor_volume_n_weight_table['Individual Weight'].max()\n",
    "x_limit = max_weight + 1\n",
    "\n",
    "# x_limit"
   ]
  },
  {
   "cell_type": "code",
   "execution_count": 73,
   "metadata": {},
   "outputs": [
    {
     "data": {
      "image/png": "[encoded data removed]",
      "text/plain": [
       "<Figure size 432x288 with 1 Axes>"
      ]
     },
     "metadata": {
      "needs_background": "light"
     },
     "output_type": "display_data"
    }
   ],
   "source": [
    "# Creating Scatter Plot \n",
    "\n",
    "plt.scatter(individual_weight_list,average_tumor_volume_list, marker=\"o\", facecolors=\"blue\", edgecolors=\"black\",\n",
    "            s=average_tumor_volume_list, alpha=0.75)\n",
    "plt.title(\"Mouse Weight vs. Average Tumor Volume\")\n",
    "plt.xlabel(\"Mouse Weight (g)\")\n",
    "plt.ylabel(\"Average Tumor Volume\")\n",
    "plt.xlim(14, x_limit)\n",
    "plt.ylim(34, 47)\n",
    "plt.show()"
   ]
  },
  {
   "cell_type": "markdown",
   "metadata": {},
   "source": [
    "## Correlation and Regression"
   ]
  },
  {
   "cell_type": "code",
   "execution_count": 74,
   "metadata": {},
   "outputs": [],
   "source": [
    "# Calculate the correlation coefficient and linear regression model \n",
    "# for mouse weight and average tumor volume for the Capomulin regimen"
   ]
  },
  {
   "cell_type": "code",
   "execution_count": 75,
   "metadata": {},
   "outputs": [
    {
     "name": "stdout",
     "output_type": "stream",
     "text": [
      "The correlation between mouse weight and the average tumor volume is 0.84\n"
     ]
    },
    {
     "data": {
      "image/png": "[encoded data removed]",
      "text/plain": [
       "<Figure size 432x288 with 1 Axes>"
      ]
     },
     "metadata": {
      "needs_background": "light"
     },
     "output_type": "display_data"
    }
   ],
   "source": [
    "# Creating Slope \n",
    "\n",
    "x_values = individual_weight_list\n",
    "y_values = average_tumor_volume_list\n",
    "(slope, intercept, rvalue, pvalue, stderr) = linregress(x_values, y_values)\n",
    "regress_values = x_values * slope + intercept\n",
    "\n",
    "# Creating Equation String (For Graph)\n",
    "\n",
    "line_eq = \"y = \" + str(round(slope,2)) + \"x + \" + str(round(intercept,2))\n",
    "\n",
    "# Creating Correlation\n",
    "\n",
    "tumorvolume = average_tumor_volume_n_weight_table.iloc[:,0]\n",
    "weight = average_tumor_volume_n_weight_table.iloc[:,1]\n",
    "correlation = st.pearsonr(tumorvolume,weight)\n",
    "\n",
    "# Creating Scatter Plot With Slope Line \n",
    "\n",
    "plt.scatter(x_values,y_values)\n",
    "plt.plot(x_values,regress_values,\"r-\")\n",
    "plt.annotate(line_eq,(20,36),fontsize=15,color=\"red\")\n",
    "plt.title(\"Mouse Weight vs. Average Tumor Volume\")\n",
    "plt.xlabel(\"Mouse Weight (g)\")\n",
    "plt.ylabel(\"Average Tumor Volume\")\n",
    "print(f\"The correlation between mouse weight and the average tumor volume is {round(correlation[0],2)}\")\n",
    "plt.show()"
   ]
  },
  {
   "cell_type": "code",
   "execution_count": null,
   "metadata": {},
   "outputs": [],
   "source": []
  }
 ],
 "metadata": {
  "anaconda-cloud": {},
  "kernelspec": {
   "display_name": "Python [conda env:PythonData] *",
   "language": "python",
   "name": "conda-env-PythonData-py"
  },
  "language_info": {
   "codemirror_mode": {
    "name": "ipython",
    "version": 3
   },
   "file_extension": ".py",
   "mimetype": "text/x-python",
   "name": "python",
   "nbconvert_exporter": "python",
   "pygments_lexer": "ipython3",
   "version": "3.6.10"
  }
 },
 "nbformat": 4,
 "nbformat_minor": 4
}
